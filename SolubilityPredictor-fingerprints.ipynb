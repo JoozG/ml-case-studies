{
  "nbformat": 4,
  "nbformat_minor": 0,
  "metadata": {
    "colab": {
      "provenance": [],
      "authorship_tag": "ABX9TyPkvxZji4iIkHofb6Fk9W7T",
      "include_colab_link": true
    },
    "kernelspec": {
      "name": "python3",
      "display_name": "Python 3"
    },
    "language_info": {
      "name": "python"
    }
  },
  "cells": [
    {
      "cell_type": "markdown",
      "metadata": {
        "id": "view-in-github",
        "colab_type": "text"
      },
      "source": [
        "<a href=\"https://colab.research.google.com/github/JoozG/ml-case-studies/blob/main/SolubilityPredictor-fingerprints.ipynb\" target=\"_parent\"><img src=\"https://colab.research.google.com/assets/colab-badge.svg\" alt=\"Open In Colab\"/></a>"
      ]
    },
    {
      "cell_type": "code",
      "execution_count": null,
      "metadata": {
        "id": "ZrnsBu4Amf0e"
      },
      "outputs": [],
      "source": [
        "from rdkit.Chem import rdFingerprintGenerator\n",
        "import tensorflow\n",
        "from tensorflow.keras.models import Sequential\n",
        "from tensorflow.keras.layers import Conv1D, Dense, Flatten, Dropout\n",
        "from tensorflow.keras.optimizers import Adam\n",
        "\n",
        "# Load the dataset\n",
        "url = \"https://deepchemdata.s3-us-west-1.amazonaws.com/datasets/delaney-processed.csv\"\n",
        "df = pd.read_csv(url)\n",
        "\n",
        "# Convert SMILES to RDKit Mol objects\n",
        "df['mol'] = df['smiles'].apply(Chem.MolFromSmiles)\n",
        "\n",
        "# Convert molecules to molecular fingerprints\n",
        "def mol_to_fingerprint(mol, radius=2, fpSize=2048):\n",
        "    morgan_fp = rdFingerprintGenerator.GetMorganGenerator(radius=radius, fpSize=fpSize)\n",
        "    return morgan_fp.GetFingerprint(mol)\n",
        "\n",
        "# Calculate fingerprints and convert them to numpy arrays\n",
        "df['fingerprint'] = df['mol'].apply(mol_to_fingerprint)\n",
        "X = pd.DataFrame(df['fingerprint'].apply(lambda x: list(x)).tolist())\n",
        "y = df['measured log solubility in mols per litre']\n",
        "\n",
        "# Split the dataset into training and testing sets\n",
        "X_train, X_test, y_train, y_test = train_test_split(X, y, test_size=0.2, random_state=42)\n",
        "\n",
        "# Convert the data to numpy arrays and reshape for 1D convolution (CNN expects 3D input: samples, timesteps, features)\n",
        "X_train = X_train.values.reshape(X_train.shape[0], X_train.shape[1], 1)\n",
        "X_test = X_test.values.reshape(X_test.shape[0], X_test.shape[1], 1)\n",
        "\n",
        "# Define the CNN model\n",
        "model = Sequential()\n",
        "model.add(Conv1D(filters=64, kernel_size=8, activation='relu', input_shape=(X_train.shape[1], 1)))\n",
        "model.add(Dropout(0.2))  # Prevent overfitting\n",
        "model.add(Conv1D(filters=32, kernel_size=8, activation='relu'))\n",
        "model.add(Dropout(0.2))\n",
        "model.add(Flatten())\n",
        "model.add(Dense(128, activation='relu'))\n",
        "model.add(Dense(1))  # Regression task, output single value (solubility)\n",
        "\n",
        "# Compile the model\n",
        "model.compile(optimizer=Adam(learning_rate=0.001), loss='mean_squared_error')\n",
        "\n",
        "# Train the model\n",
        "model.fit(X_train, y_train, epochs=50, batch_size=32, validation_split=0.1)\n",
        "\n",
        "# Make predictions\n",
        "y_pred = model.predict(X_test).flatten()\n",
        "\n",
        "# Evaluate the model\n",
        "rmse = mean_squared_error(y_test, y_pred)\n",
        "r2 = r2_score(y_test, y_pred)\n",
        "\n",
        "print(f'RMSE: {rmse}')\n",
        "print(f'R² Score: {r2}')\n"
      ]
    }
  ]
}